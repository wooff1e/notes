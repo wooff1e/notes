{
 "cells": [
  {
   "cell_type": "code",
   "execution_count": 2,
   "metadata": {},
   "outputs": [],
   "source": [
    "from IPython.core.interactiveshell import InteractiveShell\n",
    "InteractiveShell.ast_node_interactivity = \"all\"\n",
    "\n",
    "import numpy as np\n",
    "import sys\n",
    "# NumPy arrays are up to 50x faster that traditional Python lists. \n",
    "\n",
    "np.set_printoptions(threshold=sys.maxsize)"
   ]
  },
  {
   "cell_type": "code",
   "execution_count": 46,
   "metadata": {},
   "outputs": [
    {
     "data": {
      "text/plain": [
       "array([0, 1, 2])"
      ]
     },
     "execution_count": 46,
     "metadata": {},
     "output_type": "execute_result"
    },
    {
     "data": {
      "text/plain": [
       "array([0., 0., 0.])"
      ]
     },
     "execution_count": 46,
     "metadata": {},
     "output_type": "execute_result"
    },
    {
     "data": {
      "text/plain": [
       "array([0, 0, 0])"
      ]
     },
     "execution_count": 46,
     "metadata": {},
     "output_type": "execute_result"
    },
    {
     "data": {
      "text/plain": [
       "array([7, 7, 7])"
      ]
     },
     "execution_count": 46,
     "metadata": {},
     "output_type": "execute_result"
    },
    {
     "data": {
      "text/plain": [
       "2"
      ]
     },
     "execution_count": 46,
     "metadata": {},
     "output_type": "execute_result"
    },
    {
     "data": {
      "text/plain": [
       "array([[1, 2, 3],\n",
       "       [4, 5, 6]])"
      ]
     },
     "execution_count": 46,
     "metadata": {},
     "output_type": "execute_result"
    }
   ],
   "source": [
    "np.arange(3)\n",
    "np.zeros(3)\n",
    "np.zeros(3, dtype=int)\n",
    "np.full(3, 7)\n",
    "arr = np.array([[1, 2, 3], [4, 5, 6]])\n",
    "arr.ndim\n",
    "arr"
   ]
  },
  {
   "cell_type": "code",
   "execution_count": 52,
   "metadata": {},
   "outputs": [
    {
     "data": {
      "text/plain": [
       "0.6042451410988791"
      ]
     },
     "execution_count": 52,
     "metadata": {},
     "output_type": "execute_result"
    },
    {
     "data": {
      "text/plain": [
       "array([[0.56772487, 0.53875804, 0.14811348, 0.32351438, 0.17426057],\n",
       "       [0.00238619, 0.30618561, 0.50727345, 0.63897852, 0.90861252],\n",
       "       [0.26356865, 0.13409532, 0.53623655, 0.06877663, 0.98732565]])"
      ]
     },
     "execution_count": 52,
     "metadata": {},
     "output_type": "execute_result"
    },
    {
     "data": {
      "text/plain": [
       "array([[5, 7, 5, 3, 7],\n",
       "       [5, 7, 3, 3, 3],\n",
       "       [7, 7, 7, 3, 5]])"
      ]
     },
     "execution_count": 52,
     "metadata": {},
     "output_type": "execute_result"
    },
    {
     "name": "stdout",
     "output_type": "stream",
     "text": [
      "[1 3 5 2 4]\n",
      "[5 2 3 1 4]\n"
     ]
    }
   ],
   "source": [
    "np.random.rand()\n",
    "np.random.rand(3, 5)\n",
    "x = np.random.randint(100) \t\t\t    # Generate a random integer in range [0, 99]\n",
    "x = np.random.randint(100, 105)            # Generate a random integer in range [100, 104]\n",
    "x = np.random.randint(100, size=(5)) \t\t# 1D array with 5 random integers in range [0, 99]\n",
    "x = np.random.randint(100, size=(3, 5))\t# 2D array 3x5 of random integerss in range [0, 99]\n",
    "x = np.random.choice([3, 5, 7, 9]) \t\t        # returns one of the values in an array\n",
    "x = np.random.choice([3, 5, 7, 9], size=(3, 5)) \t# 2D array from the values in the parameter\n",
    "# specify the probability for each value. (The sum of all probabilities should be 1)\n",
    "np.random.choice([3, 5, 7, 9], p=[0.1, 0.3, 0.6, 0.0], size=(3, 5))\n",
    "\n",
    "\n",
    "\n",
    "### Random Permutations of Elements\n",
    "arr = np.array([1, 2, 3, 4, 5])\n",
    "np.random.shuffle(arr)             # makes changes to the original array.\n",
    "print(arr)\n",
    "\n",
    "print(np.random.permutation(arr))  # leaves the original array un-changed"
   ]
  },
  {
   "cell_type": "code",
   "execution_count": null,
   "metadata": {},
   "outputs": [],
   "source": [
    "newarr = arr.astype('i') # int32\n",
    "newarr = arr.astype(int) # int64"
   ]
  },
  {
   "cell_type": "code",
   "execution_count": 6,
   "metadata": {},
   "outputs": [
    {
     "data": {
      "text/plain": [
       "array([[[[[1, 2, 3, 4]]]]])"
      ]
     },
     "execution_count": 6,
     "metadata": {},
     "output_type": "execute_result"
    }
   ],
   "source": [
    "np.array([1, 2, 3, 4], ndmin=5)"
   ]
  },
  {
   "cell_type": "code",
   "execution_count": 24,
   "metadata": {},
   "outputs": [
    {
     "data": {
      "text/plain": [
       "(8,)"
      ]
     },
     "execution_count": 24,
     "metadata": {},
     "output_type": "execute_result"
    },
    {
     "data": {
      "text/plain": [
       "(2, 4)"
      ]
     },
     "execution_count": 24,
     "metadata": {},
     "output_type": "execute_result"
    },
    {
     "data": {
      "text/plain": [
       "array([[1, 2, 3, 4],\n",
       "       [5, 6, 7, 8]])"
      ]
     },
     "execution_count": 24,
     "metadata": {},
     "output_type": "execute_result"
    }
   ],
   "source": [
    "# Reshaping arrays\n",
    "arr = np.array([1, 2, 3, 4, 5, 6, 7, 8])\n",
    "arr.shape\n",
    "arr_new = arr.reshape(2, 4)\n",
    "arr_new.shape\n",
    "arr_new"
   ]
  },
  {
   "cell_type": "code",
   "execution_count": 56,
   "metadata": {},
   "outputs": [
    {
     "data": {
      "text/plain": [
       "array([[0, 5],\n",
       "       [2, 6],\n",
       "       [3, 7],\n",
       "       [4, 0]])"
      ]
     },
     "execution_count": 56,
     "metadata": {},
     "output_type": "execute_result"
    },
    {
     "data": {
      "text/plain": [
       "array([[0, 5],\n",
       "       [2, 6],\n",
       "       [3, 7],\n",
       "       [4, 0]])"
      ]
     },
     "execution_count": 56,
     "metadata": {},
     "output_type": "execute_result"
    }
   ],
   "source": [
    "np.transpose(arr_new, (1,0))\n",
    "arr_new.transpose((1,0))"
   ]
  },
  {
   "cell_type": "code",
   "execution_count": 57,
   "metadata": {},
   "outputs": [
    {
     "data": {
      "text/plain": [
       "array([0, 2, 3, 4, 5, 6, 7, 0])"
      ]
     },
     "execution_count": 57,
     "metadata": {},
     "output_type": "execute_result"
    },
    {
     "data": {
      "text/plain": [
       "array([[0, 2, 3, 4],\n",
       "       [5, 6, 7, 0]])"
      ]
     },
     "execution_count": 57,
     "metadata": {},
     "output_type": "execute_result"
    },
    {
     "data": {
      "text/plain": [
       "array([0, 3, 5, 2, 4])"
      ]
     },
     "execution_count": 57,
     "metadata": {},
     "output_type": "execute_result"
    },
    {
     "data": {
      "text/plain": [
       "array([0, 3, 5, 2, 0])"
      ]
     },
     "execution_count": 57,
     "metadata": {},
     "output_type": "execute_result"
    }
   ],
   "source": [
    "# reshape() returns a view !!! (a reference to the original array: changing either will change both)\n",
    "arr_new.base\n",
    "\n",
    "arr[0]=0\n",
    "arr_new\n",
    "\n",
    "x = arr.copy()\t\t# a new array\n",
    "y = arr.view()\t\t# a view\n",
    "arr[-1]=0\n",
    "x\n",
    "y"
   ]
  },
  {
   "cell_type": "code",
   "execution_count": 28,
   "metadata": {},
   "outputs": [
    {
     "data": {
      "text/plain": [
       "array([[[0, 2],\n",
       "        [3, 4]],\n",
       "\n",
       "       [[5, 6],\n",
       "        [7, 0]]])"
      ]
     },
     "execution_count": 28,
     "metadata": {},
     "output_type": "execute_result"
    },
    {
     "data": {
      "text/plain": [
       "array([0, 2, 3, 4, 5, 6, 7, 0])"
      ]
     },
     "execution_count": 28,
     "metadata": {},
     "output_type": "execute_result"
    }
   ],
   "source": [
    "# You are allowed to have one \"unknown\" dimension. Pass -1 as the value, and NumPy will calculate this number for you.\n",
    "arr.reshape(2, 2, -1)\n",
    "arr.reshape(-1)\t\t# flattening (converting into a 1D array)"
   ]
  },
  {
   "cell_type": "code",
   "execution_count": 35,
   "metadata": {},
   "outputs": [
    {
     "data": {
      "text/plain": [
       "array([[0],\n",
       "       [1],\n",
       "       [2]])"
      ]
     },
     "execution_count": 35,
     "metadata": {},
     "output_type": "execute_result"
    }
   ],
   "source": [
    "a  = np.arange(3)\n",
    "b  = a.reshape((3,1))\n",
    "b\n",
    "c  = np.squeeze(b)     \t# c.shape  = (3,)"
   ]
  },
  {
   "cell_type": "markdown",
   "metadata": {},
   "source": [
    "There are also a lot of functions for changing the shapes of arrays in numpy flatten, ravel and also for rearranging the elements rot90, flip, fliplr, flipud etc."
   ]
  },
  {
   "cell_type": "code",
   "execution_count": null,
   "metadata": {},
   "outputs": [],
   "source": [
    "# Iterating through each scalar of an array without nested loops:\n",
    "arr = np.array([[[1, 2], [3, 4]], [[5, 6], [7, 8]]])\n",
    "arr\n",
    "for x in np.nditer(arr):\n",
    "    print(x)\t\t\t\t\t\t\t# 1 2 3 4 5 6 7 8\n",
    "\n",
    "# op_dtypes - the expected datatype to change the datatype of elements while iterating. \n",
    "# NumPy does not change the data type of the element in-place (where the element is in array) so it needs some other space to perform this action, \n",
    "# that extra space is called buffer, and in order to enable it in nditer() we pass flags=['buffered'].\n",
    "arr = np.array([1, 2, 3])\n",
    "for x in np.nditer(arr, flags=['buffered'], op_dtypes=['S']):\n",
    "    print(x)\t\t\t\t\t\t\t# b'1' b'2' b'3'\n",
    "\n",
    "# We can iterate with different step size:\n",
    "arr = np.array([[1, 2, 3, 4], [5, 6, 7, 8]])\n",
    "for x in np.nditer(arr[:, ::2]):\n",
    "    print(x)\t\t\t\t\t\t\t# 1 3 5 7"
   ]
  },
  {
   "cell_type": "code",
   "execution_count": 39,
   "metadata": {},
   "outputs": [
    {
     "name": "stdout",
     "output_type": "stream",
     "text": [
      "(0, 0) 1\n",
      "(0, 1) 2\n",
      "(0, 2) 3\n",
      "(0, 3) 4\n",
      "(1, 0) 5\n",
      "(1, 1) 6\n",
      "(1, 2) 7\n",
      "(1, 3) 8\n"
     ]
    }
   ],
   "source": [
    "arr = np.array([[1, 2, 3, 4], [5, 6, 7, 8]])\n",
    "for idx, x in np.ndenumerate(arr):\n",
    "  print(idx, x)"
   ]
  },
  {
   "cell_type": "code",
   "execution_count": null,
   "metadata": {},
   "outputs": [],
   "source": [
    "# Joining NumPy Arrays\n",
    "# In SQL we join tables based on a key, whereas in NumPy we join arrays by axes. \n",
    "# We pass a sequence of arrays that we want to join to the concatenate() function, along with the axis. If axis is not explicitly passed, it is taken as 0.\n",
    "arr1 = np.array([[1, 2], [3, 4]])\n",
    "arr2 = np.array([[5, 6], [7, 8]])\n",
    "arr = np.concatenate((arr1, arr2), axis=1) \t# [[1 2 5 6]\n",
    "  #  [3 4 7 8]]\n",
    "\n",
    "# Stack Functions\n",
    "# Stacking is same as concatenation, the only difference is that stacking is done along a new axis. We can concatenate two 1-D arrays along the second axis which would result in putting them one over the other, ie. stacking. We pass a sequence of arrays that we want to join to the stack() method along with the axis. If axis is not explicitly passed it is taken as 0. \n",
    "arr1 = np.array([1, 2, 3])\n",
    "arr2 = np.array([4, 5, 6])\n",
    "arr = np.stack((arr1, arr2), axis=1) \t\t\n",
    "# [[1 4]\n",
    "#  [2 5]\n",
    "#  [3 6]]\n",
    "# stack along rows \n",
    "arr = np.hstack((arr1, arr2)) # [1 2 3 4 5 6]\n",
    "\n",
    "# stack along columns\n",
    "arr = np.vstack((arr1, arr2)) # [[1 2 3]\n",
    "  #  [4 5 6]]\n",
    "# stack along height (depth)\n",
    "arr = np.dstack((arr1, arr2)) # [[[1 4]\n",
    "    # [2 5]\n",
    "    # [3 6]]]\n",
    "    \n",
    "# Splitting NumPy Arrays\n",
    "# There is a method split() available but it will not adjust the elements when the array has less elements than required, so instead we can use array_split()\n",
    "arr = np.array([1, 2, 3, 4, 5, 6])\n",
    "newarr = np.array_split(arr, 3)\t  \t# [array([1, 2]), array([3, 4]), array([5, 6])]\n",
    "print(newarr[0])\t\t\t\t# [1 2]\n",
    "arr = np.array([1, 2, 3, 4, 5, 6])\t# not enough elements for split\n",
    "newarr = np.array_split(arr, 4)\t  # [array([1, 2]), array([3, 4]), array([5]), array([6])]\n",
    "\n",
    "# 2D\n",
    "arr = np.array([[1, 2], [3, 4], [5, 6], [7, 8], [9, 10], [11, 12]])\n",
    "newarr = np.array_split(arr, 3)\n",
    "# _______________________________\n",
    "# [array([[1, 2], [3, 4]]), \n",
    "#  array([[5, 6], [7, 8]]), \n",
    "#  array([[ 9, 10], [11, 12]])]\n",
    "\n",
    "# Similar to stack functions you can use axis parameter, or use functions vsplit() and dsplit()\n",
    "\n"
   ]
  },
  {
   "cell_type": "code",
   "execution_count": null,
   "metadata": {},
   "outputs": [],
   "source": [
    "\n",
    "# Searching Arrays\n",
    "# where() - search an array for a certain value, and return the indexes that get a match.\n",
    "arr = np.array([1, 2, 3, 4, 5, 4, 4])\n",
    "x = np.where(arr == 4) \t# returns a tuple: (array([3, 5, 6],) \n",
    "x = np.where(arr%2 == 0) \t# find the indexes where the values are even\n",
    "\n",
    "# searchsorted() – performs a binary search in the array, and returns the first index where the specified value would be inserted to preserve the order. This method is assumed to be used on sorted arrays!\n",
    "arr = np.array([6, 7, 8, 9])\n",
    "x = np.searchsorted(arr, 7)\t\t\t# x = 1 \n",
    "\n",
    "# By default the search goes from left-to-right, to go in the opposite direction:\n",
    "arr = np.array([6, 7, 8, 9])\n",
    "x = np.searchsorted(arr, 7, side='right')\t# x = 2\n",
    "\n",
    "# To search for multiple values, use an array with the specified values:\n",
    "arr = np.array([1, 3, 5, 7])\n",
    "x = np.searchsorted(arr, [2, 4, 6]) \t\t# x = [1 2 3] \n",
    "# Sorting Arrays\n",
    "arr = np.array([3, 2, 0, 1])\n",
    "print(np.sort(arr))\n",
    "\n",
    "# This method returns a copy of the array, leaving the original array unchanged. You can also sort arrays of strings, Booleans or any other data type. If you use it on a 2D array, both arrays will be sorted:\n",
    "arr = np.array([[3, 2, 4], [5, 0, 1]])\n",
    "print(np.sort(arr))\t\t\t\t# [[2 3 4]\n",
    "  #  [0 1 5]]\n",
    "# Filtering Arrays\n",
    "# Getting some elements out of an existing array and creating a new array out of them is called filtering.\n",
    "# In NumPy, you filter an array using a boolean index list (a list of booleans corresponding to indexes in the array). \n",
    "arr = np.array([41, 42, 43, 44])\n",
    "x = [True, False, True, False]\n",
    "newarr = arr[x] \t\t\t\t# [41 43]\n",
    "\n",
    "# Instead of hard-coding True / False values, it’s more common to create a filter based on conditions:\n",
    "arr = np.array([41, 42, 43, 44])\n",
    "filter_arr = []\n",
    "for element in arr:\n",
    "  if element > 42:\n",
    "    filter_arr.append(True)\n",
    "  else:\n",
    "    filter_arr.append(False)\n",
    "newarr = arr[filter_arr]\n",
    "print(filter_arr)\t\t\t\t# [False, False, True, True]\n",
    "print(newarr)\t\t\t\t\t# [43 44]\n",
    "\n",
    "# We can create filter directly from array\n",
    "arr = np.array([41, 42, 43, 44])\n",
    "filter_arr = arr > 42\n",
    "newarr = arr[filter_arr]"
   ]
  },
  {
   "cell_type": "code",
   "execution_count": null,
   "metadata": {},
   "outputs": [],
   "source": [
    "# NumPy ufuncs\n",
    "# ufuncs stands for \"Universal Functions\" and they are NumPy functions that operates on the ndarray object. ufuncs are used to implement vectorization in NumPy which is way faster than iterating over elements. They also provide broadcasting and additional methods like reduce, accumulate etc. that are very helpful for computation.\n",
    "# Vectorization\n",
    "# Both GPU and CPU have parallization instuctions (SIMD – single instruction multiple data), which are used in numpy functions like .dot() which is used for matrix multiplication (unlike * which is element-wise). GPU is especially good for this, CPU is no bad either.\n",
    "\n",
    "# Add the Elements of Two Lists\n",
    "# without ufunc, we can use Python's built-in zip() method:\n",
    "x = [1, 2, 3, 4]\n",
    "y = [4, 5, 6, 7]\n",
    "z = []\n",
    "\n",
    "for i, j in zip(x, y):\n",
    "  z.append(i + j)\n",
    "print(z)\n",
    "\n",
    "# with ufunc, we can use the add() function:\n",
    "x = [1, 2, 3, 4]\n",
    "y = [4, 5, 6, 7]\n",
    "z = np.add(x, y)\n",
    "print(z)\n",
    "\n",
    "# Create your own ufunc\n",
    "# define a function, like you do with normal functions in Python, then add it to your NumPy ufunc library using frompyfunc(function_name, nr_of_input_arrays, nr_of_output_arrays)\n",
    "def myadd(x, y):\n",
    "  return x+y\n",
    "\n",
    "myadd = np.frompyfunc(myadd, 2, 1)\n",
    "print(myadd([1, 2, 3, 4], [5, 6, 7, 8]))\t# [6 8 10 12]\n",
    "\n",
    "# Check if a Function is a ufunc\n",
    "print(type(np.add))\t\t# ufunc should return <class 'numpy.ufunc'>\n",
    "\n",
    "# If the function is not recognized at all, it will return an error\n",
    "# To test if the function is a ufunc in an if statement, use the numpy.ufunc value (or np.ufunc if you use np as an alias for numpy):\n",
    "if type(np.add) == np.ufunc:\n",
    "  print('add is ufunc')\n",
    "else:\n",
    "  print('add is not ufunc')\n",
    "\n"
   ]
  },
  {
   "cell_type": "code",
   "execution_count": null,
   "metadata": {},
   "outputs": [],
   "source": [
    "# Arithmetic\n",
    "# You could use arithmetic operators + - * / directly between NumPy arrays, but there are also functions that can take any array-like objects e.g. lists, tuples etc. \n",
    "# and perform arithmetic conditionally (take a where parameter in which we can specify that condition and return results in a new array)\n",
    "arr1 = np.array([1, 2, 3])\n",
    "arr2 = np.array([1, 2, 3])\n",
    "\n",
    "newarr = np.add(arr1, arr2) \t\t# [2 4 6]\n",
    "newarr = np.sum([arr1, arr2])\t\t# 12\n",
    "newarr = np.sum([arr1, arr2], axis=1) \t# [6 6]\n",
    "newarr = np.divmod(arr1, arr2) \t\t# returns two arrays: the quotient and the mod.\n",
    "\n",
    "# Rounding Decimals\n",
    "arr = np.trunc([-3.1666, 3.6667])\t# [-3.  3.]\n",
    "arr = np.fix([-3.1666, 3.6667])\t\t# [-3.  3.]\n",
    "arr = np.around(3.1666, 2)\t\t\t# 3.17\n",
    "\n",
    "\n",
    "# Logs\n",
    "arr = np.arange(1, 10)\t# array of integers starting from 1 (included) to 10 (not included)\n",
    "\n",
    "print(np.log2(arr)) \t\t# log at the base 2\n",
    "print(np.log10(arr)) \t\t# log at the base 10\n",
    "print(np.log(arr)) \t\t# log at the base e \n",
    "\n",
    "# Note: All of the log functions will place -inf or inf in the elements if the log can not be computed.\n",
    "\n",
    "# Log at Any Base\n",
    "# NumPy does not provide any function to take log at any base, so we can use the frompyfunc() function along with inbuilt function math.log() with two input parameters and one output parameter:\n",
    "\n",
    "from math import log\n",
    "nplog = np.frompyfunc(log, 2, 1)\n",
    "print(nplog(100, 15))\n",
    "\n",
    "\n",
    "# Products\n",
    "arr = np.array([1, 2, 3, 4])\n",
    "x = np.prod(arr) \t\t\t\t# 1*2*3*4 = 24\n",
    "\n",
    "arr1 = np.array([1, 2, 3, 4])\n",
    "arr2 = np.array([5, 6, 7, 8])\n",
    "x = np.prod([arr1, arr2]) \t\t\t# 1*2*3*4*5*6*7*8 = 40320\n",
    "newarr = np.prod([arr1, arr2], axis=1) \t# [24 1680]\n",
    "\n",
    "# Cummulative product – means taking the product partially.\n",
    "arr = np.array([5, 6, 7, 8])\n",
    "newarr = np.cumprod(arr) \t\t\t# [5 30 210 1680]\n",
    "# Differences\n",
    "# Discrete difference – subtracting two successive elements\n",
    "arr = np.array([10, 15, 25, 5])\n",
    "newarr = np.diff(arr) \t\t\t# [5 10 -20]  (15-10, 25-15, 5-25)\n",
    "\n",
    "# We can perform this operation repeatedly (on the result) by giving parameter n.\n",
    "arr = np.array([10, 15, 25, 5])\n",
    "newarr = np.diff(arr, n=2) \t\t\t# [5 -30]  (10-5, -20-10)\n",
    "# LCM (Lowest Common Multiple)\n",
    "x = np.lcm(4, 6)\t\t\t\t# 12\n",
    "\n",
    "arr = np.array([3, 6, 9])\n",
    "x = np.lcm.reduce(arr)\t\t\t# 18\n",
    "\n",
    "# The reduce() method will use the ufunc, in this case the lcm() function, on each element, and reduce the array by one dimension.\n",
    "# GCD (Greatest Common Denominator)\n",
    "x = np.gcd(6, 9)\t\t\t\t# 3\n",
    "\n",
    "arr = np.array([20, 8, 32, 36, 16])\n",
    "x = np.gcd.reduce(arr)\t\t\t# 4\n",
    "\n",
    "# The reduce() method will use the ufunc, in this case the gcd() function, on each element, and reduce the array by one dimension.\n"
   ]
  },
  {
   "cell_type": "code",
   "execution_count": null,
   "metadata": {},
   "outputs": [],
   "source": [
    "# Trigonometric Functions\n",
    "# Ufuncs sin(), cos(), tan() take values in radians and return sin, cos and tan values.\n",
    "# Ufuncs arcsin(), arccos(), arctan() take sin, cos and tan values and return radian values\n",
    "\n",
    "x = np.sin(np.pi/2)\t\t\t\t\t\t# 1.0\n",
    "arr = np.array([np.pi/2, np.pi/3, np.pi/4, np.pi/5])  \n",
    "x = np.sin(arr) \t\t\t\t\t\t# [1.  0.8660254  0.70710678  0.58778525]\n",
    "x = np.arcsin(1.0) \t\t\t\t\t\t# 1.5707963267948966\n",
    "arr = np.array([1, -1, 0.1])\n",
    "x = np.arcsin(arr)\t\t\t\t\t\t# [ 1.57079633 -1.57079633 0.10016742]\n",
    "\n",
    "# Convert Degrees Into Radians\n",
    "arr = np.array([90, 180, 270, 360])\t\t\t\t# radians = pi/180 * degrees\n",
    "x = np.deg2rad(arr)\t\t\t\t\t\t# [1.57079633 3.14159265 4.71238898 6.28318531]\n",
    "\n",
    "# Convert Radians to Degrees\n",
    "arr = np.array([np.pi/2, np.pi, 1.5*np.pi, 2*np.pi])\n",
    "x = np.rad2deg(arr)\t\t\t\t\t\t# [ 90. 180. 270. 360.]\n",
    "# Hypotenues\n",
    "base = 3\n",
    "perp = 4\n",
    "x = np.hypot(base, perp) # Finding hypotenues using pythagoras theorem\n",
    "\n",
    "# Hyperbolic Functions\n",
    "# Ufuncs sinh(), cosh(), tanh() take values in radians and return sinh, cosh and tanh values\n",
    "# Ufuncs arcsinh(), arccosh(), arctanh() take sinh, cosh and tanh values and return radian values\n",
    "\n",
    "x = np.sinh(np.pi/2)\t\t\t\t\t\t# 2.3012989023072947\n",
    "arr = np.array([np.pi/2, np.pi/3, np.pi/4, np.pi/5])\n",
    "x = np.cosh(arr)\t\t\t\t\t\t# [2.50917848 1.60028686 1.32460909 1.20397209]\n",
    "x = np.arcsinh(1.0)\t\t\t\t\t\t# 0.881373587019543\n",
    "arr = np.array([0.1, 0.2, 0.5])\n",
    "x = np.arctanh(arr)\t\t\t\t\t\t# [0.10033535 0.20273255 0.54930614]\n"
   ]
  },
  {
   "cell_type": "code",
   "execution_count": null,
   "metadata": {},
   "outputs": [],
   "source": [
    "# NumPy Set Operations (set arrays should only be 1-D arrays!)\n",
    "arr = np.array([1, 1, 1, 2, 3, 4, 5, 5, 6, 7])\n",
    "x = np.unique(arr)\t\t\t\t\t\t# [1 2 3 4 5 6 7]\n",
    "\n",
    "# Finding Union, Intersection\n",
    "arr1 = np.array([1, 2, 3, 4])\n",
    "arr2 = np.array([3, 4, 5, 6])\n",
    "\n",
    "newarr = np.union1d(arr1, arr2)\t\t\t\t# [1 2 3 4 5 6]\n",
    "newarr = np.intersect1d(arr1, arr2, assume_unique=True)\t# [3 4]\n",
    "newarr = np.setdiff1d(set1, set2, assume_unique=True)\t# [1 2] are in 1st set but NOT in 2nd\n",
    "newarr = np.setxor1d(set1, set2, assume_unique=True)\t# [1 2 5 6] NOT in BOTH sets\n",
    "# argument assume_unique is optional, but it should always be set to True when dealing with sets, bc it can speed up computation."
   ]
  }
 ],
 "metadata": {
  "kernelspec": {
   "display_name": "Python 3",
   "language": "python",
   "name": "python3"
  },
  "language_info": {
   "codemirror_mode": {
    "name": "ipython",
    "version": 3
   },
   "file_extension": ".py",
   "mimetype": "text/x-python",
   "name": "python",
   "nbconvert_exporter": "python",
   "pygments_lexer": "ipython3",
   "version": "3.10.10"
  }
 },
 "nbformat": 4,
 "nbformat_minor": 2
}
